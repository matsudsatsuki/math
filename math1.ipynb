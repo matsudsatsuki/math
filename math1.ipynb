{
 "cells": [
  {
   "cell_type": "code",
   "execution_count": 1,
   "source": [
    "import numpy as np\n",
    "import pandas as pd\n",
    "import matplotlib.pyplot as plt\n",
    "import seaborn as sns\n",
    "%matplotlib inline"
   ],
   "outputs": [],
   "metadata": {}
  },
  {
   "cell_type": "code",
   "execution_count": 6,
   "source": [
    "#二次関数\n",
    "x = np.arange(-10,10,0.1)#-10から10の範囲\n",
    "y = x**2\n",
    "plt.plot(x, y)"
   ],
   "outputs": [
    {
     "output_type": "execute_result",
     "data": {
      "text/plain": [
       "[<matplotlib.lines.Line2D at 0x7fa930ab72b0>]"
      ]
     },
     "metadata": {},
     "execution_count": 6
    },
    {
     "output_type": "display_data",
     "data": {
      "image/png": "[encoded data removed]",
      "text/plain": [
       "<Figure size 432x288 with 1 Axes>"
      ]
     },
     "metadata": {
      "needs_background": "light"
     }
    }
   ],
   "metadata": {}
  },
  {
   "cell_type": "code",
   "execution_count": 9,
   "source": [
    "!git init"
   ],
   "outputs": [
    {
     "output_type": "stream",
     "name": "stdout",
     "text": [
      "\u001b[33mhint: Using 'master' as the name for the initial branch. This default branch name\u001b[m\n",
      "\u001b[33mhint: is subject to change. To configure the initial branch name to use in all\u001b[m\n",
      "\u001b[33mhint: of your new repositories, which will suppress this warning, call:\u001b[m\n",
      "\u001b[33mhint: \u001b[m\n",
      "\u001b[33mhint: \tgit config --global init.defaultBranch <name>\u001b[m\n",
      "\u001b[33mhint: \u001b[m\n",
      "\u001b[33mhint: Names commonly chosen instead of 'master' are 'main', 'trunk' and\u001b[m\n",
      "\u001b[33mhint: 'development'. The just-created branch can be renamed via this command:\u001b[m\n",
      "\u001b[33mhint: \u001b[m\n",
      "\u001b[33mhint: \tgit branch -m <name>\u001b[m\n",
      "Initialized empty Git repository in /Users/matsudasatsuki/Downloads/math/.git/\n"
     ]
    }
   ],
   "metadata": {}
  },
  {
   "cell_type": "code",
   "execution_count": null,
   "source": [
    "!git add math1.ipynb"
   ],
   "outputs": [],
   "metadata": {}
  },
  {
   "cell_type": "code",
   "execution_count": 3,
   "source": [
    "!git commit -m 'first'"
   ],
   "outputs": [
    {
     "output_type": "stream",
     "name": "stdout",
     "text": [
      "[master 86665ee] first\n",
      " 1 file changed, 102 insertions(+)\n",
      " create mode 100644 math/math1.ipynb\n"
     ]
    }
   ],
   "metadata": {}
  },
  {
   "cell_type": "code",
   "execution_count": null,
   "source": [],
   "outputs": [],
   "metadata": {}
  },
  {
   "cell_type": "code",
   "execution_count": 5,
   "source": [
    "!git branch -M main"
   ],
   "outputs": [],
   "metadata": {}
  },
  {
   "cell_type": "code",
   "execution_count": 6,
   "source": [
    "!git remote add origin https://github.com/matsudsatsuki/math_practice.git"
   ],
   "outputs": [],
   "metadata": {}
  },
  {
   "cell_type": "code",
   "execution_count": 7,
   "source": [
    "!git push -u origin main "
   ],
   "outputs": [
    {
     "output_type": "stream",
     "name": "stdout",
     "text": [
      "Enumerating objects: 4381, done.\n",
      "Counting objects: 100% (4381/4381), done.\n",
      "Delta compression using up to 4 threads\n",
      "Compressing objects: 100% (4073/4073), done.\n",
      "^C\n"
     ]
    }
   ],
   "metadata": {}
  },
  {
   "cell_type": "code",
   "execution_count": 8,
   "source": [
    "!git add math1.ipynb"
   ],
   "outputs": [
    {
     "output_type": "stream",
     "name": "stdout",
     "text": [
      "On branch main\n",
      "Changes not staged for commit:\n",
      "  (use \"git add/rm <file>...\" to update what will be committed)\n",
      "  (use \"git restore <file>...\" to discard changes in working directory)\n",
      "\t\u001b[31mdeleted:    ../001.pdf\u001b[m\n",
      "\t\u001b[31mdeleted:    ../AAPL.csv\u001b[m\n",
      "\t\u001b[31mdeleted:    ../Docker.dmg\u001b[m\n",
      "\t\u001b[31mdeleted:    ../Prepro_Location.ipynb\u001b[m\n",
      "\t\u001b[31mdeleted:    ../Preprocessing_num (1).ipynb\u001b[m\n",
      "\t\u001b[31mdeleted:    ../Preprocessing_num.ipynb\u001b[m\n",
      "\t\u001b[31mdeleted:    ../Preprocessing_time.ipynb\u001b[m\n",
      "\t\u001b[31mdeleted:    ../Sourcetree_4.1.3_239.zip\u001b[m\n",
      "\t\u001b[31mdeleted:    ../Untitled1.ipynb\u001b[m\n",
      "\t\u001b[31mdeleted:    ../archive (1).zip\u001b[m\n",
      "\t\u001b[31mdeleted:    ../archive (1)/ks-projects-201612.csv\u001b[m\n",
      "\t\u001b[31mdeleted:    ../archive (1)/ks-projects-201801.csv\u001b[m\n",
      "\t\u001b[31mdeleted:    ../archive.zip\u001b[m\n",
      "\t\u001b[31mdeleted:    ../googlechrome.dmg\u001b[m\n",
      "\t\u001b[31mdeleted:    ../kc_house_data.csv\u001b[m\n",
      "\t\u001b[31mmodified:   math1.ipynb\u001b[m\n",
      "\t\u001b[31mdeleted:    ../mercari-price-suggestion-challenge (1).zip\u001b[m\n",
      "\t\u001b[31mdeleted:    ../mercari-price-suggestion-challenge.zip\u001b[m\n",
      "\t\u001b[31mdeleted:    ../new-york-city-taxi-fare-prediction/GCP-Coupons-Instructions.rtf\u001b[m\n",
      "\t\u001b[31mdeleted:    ../new-york-city-taxi-fare-prediction/sample_submission.csv\u001b[m\n",
      "\t\u001b[31mdeleted:    ../new-york-city-taxi-fare-prediction/test.csv\u001b[m\n",
      "\t\u001b[31mdeleted:    ../new-york-city-taxi-fare-prediction/train.csv\u001b[m\n",
      "\t\u001b[31mdeleted:    ../prepro_categorical-20211129T064957Z-001.zip\u001b[m\n",
      "\t\u001b[31mdeleted:    ../santander-customer-transaction-prediction/sample_submission.csv\u001b[m\n",
      "\t\u001b[31mdeleted:    ../santander-customer-transaction-prediction/test.csv\u001b[m\n",
      "\t\u001b[31mdeleted:    ../santander-customer-transaction-prediction/train.csv\u001b[m\n",
      "\t\u001b[31mdeleted:    ../store-sales-time-series-forecasting.zip\u001b[m\n",
      "\t\u001b[31mdeleted:    ../store-sales-time-series-forecasting/holidays_events.csv\u001b[m\n",
      "\t\u001b[31mdeleted:    ../store-sales-time-series-forecasting/oil.csv\u001b[m\n",
      "\t\u001b[31mdeleted:    ../store-sales-time-series-forecasting/sample_submission.csv\u001b[m\n",
      "\t\u001b[31mdeleted:    ../store-sales-time-series-forecasting/stores.csv\u001b[m\n",
      "\t\u001b[31mdeleted:    ../store-sales-time-series-forecasting/test.csv\u001b[m\n",
      "\t\u001b[31mdeleted:    ../store-sales-time-series-forecasting/train.csv\u001b[m\n",
      "\t\u001b[31mdeleted:    ../store-sales-time-series-forecasting/transactions.csv\u001b[m\n",
      "\t\u001b[31mdeleted:    ../submit (1).csv\u001b[m\n",
      "\t\u001b[31mdeleted:    ../submit.csv\u001b[m\n",
      "\t\u001b[31mdeleted:    ../submit2\u001b[m\n",
      "\n",
      "Untracked files:\n",
      "  (use \"git add <file>...\" to include in what will be committed)\n",
      "\t\u001b[31m../Sales (1).ipynb\u001b[m\n",
      "\t\u001b[31m../fx/\u001b[m\n",
      "\t\u001b[31m../kaggle_sales.code-workspace\u001b[m\n",
      "\t\u001b[31m../kaggle_salesforecast/\u001b[m\n",
      "\t\u001b[31m../kagglesales.code-workspace\u001b[m\n",
      "\t\u001b[31m../math_p.code-workspace\u001b[m\n",
      "\t\u001b[31m../math_practice/\u001b[m\n",
      "\t\u001b[31m../prepro_practice/\u001b[m\n",
      "\t\u001b[31m../test.csv\u001b[m\n",
      "\n",
      "no changes added to commit (use \"git add\" and/or \"git commit -a\")\n"
     ]
    }
   ],
   "metadata": {}
  },
  {
   "cell_type": "code",
   "execution_count": null,
   "source": [
    "git "
   ],
   "outputs": [],
   "metadata": {}
  },
  {
   "cell_type": "code",
   "execution_count": null,
   "source": [],
   "outputs": [],
   "metadata": {}
  }
 ],
 "metadata": {
  "orig_nbformat": 4,
  "language_info": {
   "name": "python",
   "version": "3.8.8",
   "mimetype": "text/x-python",
   "codemirror_mode": {
    "name": "ipython",
    "version": 3
   },
   "pygments_lexer": "ipython3",
   "nbconvert_exporter": "python",
   "file_extension": ".py"
  },
  "kernelspec": {
   "name": "python3",
   "display_name": "Python 3.8.8 64-bit ('base': conda)"
  },
  "interpreter": {
   "hash": "dca0ade3e726a953b501b15e8e990130d2b7799f14cfd9f4271676035ebe5511"
  }
 },
 "nbformat": 4,
 "nbformat_minor": 2
}